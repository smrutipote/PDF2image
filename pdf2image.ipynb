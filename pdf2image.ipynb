{
 "cells": [
  {
   "cell_type": "code",
   "execution_count": 1,
   "id": "62aa9960",
   "metadata": {
    "scrolled": true
   },
   "outputs": [
    {
     "name": "stdout",
     "output_type": "stream",
     "text": [
      "Requirement already satisfied: pdf2image in c:\\users\\d\\anaconda3\\lib\\site-packages (1.17.0)\n",
      "Requirement already satisfied: pillow in c:\\users\\d\\anaconda3\\lib\\site-packages (from pdf2image) (10.2.0)\n",
      "Note: you may need to restart the kernel to use updated packages.\n"
     ]
    }
   ],
   "source": [
    "pip install pdf2image"
   ]
  },
  {
   "cell_type": "code",
   "execution_count": 2,
   "id": "a9c9ce2c",
   "metadata": {},
   "outputs": [],
   "source": [
    "from pdf2image import convert_from_path"
   ]
  },
  {
   "cell_type": "code",
   "execution_count": 6,
   "id": "abca0d95",
   "metadata": {},
   "outputs": [
    {
     "data": {
      "text/plain": [
       "list"
      ]
     },
     "execution_count": 6,
     "metadata": {},
     "output_type": "execute_result"
    }
   ],
   "source": [
    "type(images)"
   ]
  },
  {
   "cell_type": "code",
   "execution_count": 2,
   "id": "5d767d47-e2ff-400d-a58e-19f267862735",
   "metadata": {},
   "outputs": [],
   "source": [
    "import os\n",
    "import re\n",
    "import pdf2image\n",
    "from pdf2image import convert_from_path"
   ]
  },
  {
   "cell_type": "code",
   "execution_count": null,
   "id": "66847abc-1ce4-40a5-9c3e-a4454bd8baf6",
   "metadata": {},
   "outputs": [],
   "source": [
    "pa=os."
   ]
  },
  {
   "cell_type": "code",
   "execution_count": 5,
   "id": "12651425-2536-4c9f-8115-c45eba5cbfcd",
   "metadata": {},
   "outputs": [
    {
     "name": "stdout",
     "output_type": "stream",
     "text": [
      "C:\\Users\\D\\Sample\\image_0.png\n",
      "C:\\Users\\D\\Sample\\image_1.png\n",
      "C:\\Users\\D\\Sample\\image_2.png\n",
      "C:\\Users\\D\\Sample\\image_3.png\n",
      "C:\\Users\\D\\Sample\\image_4.png\n",
      "C:\\Users\\D\\Sample\\image_5.png\n",
      "C:\\Users\\D\\Sample\\image_6.png\n",
      "C:\\Users\\D\\Sample\\image_7.png\n",
      "C:\\Users\\D\\Sample\\image_8.png\n",
      "C:\\Users\\D\\Sample\\image_9.png\n"
     ]
    }
   ],
   "source": [
    "file_path=r'C:\\User\\D\\Sample.pdf'\n",
    "folder_name=file_path.split('\\\\')[-1].split('.')[0]\n",
    "path=os.getcwd()\n",
    "folder_path=path+'\\\\'+folder_name\n",
    "\n",
    "if not os.path.exists(folder_path):\n",
    "    folder_path=os.mkdir(folder_path)\n",
    "    print(folder_path)\n",
    "\n",
    "file_path=r'C:\\Users\\D\\sample.pdf'\n",
    "pop_path = r'C:\\Program Files\\poppler-24.02.0\\Library\\bin'\n",
    "images= convert_from_path(file_path,poppler_path=pop_path)\n",
    "\n",
    "\n",
    "for i,image in enumerate(images):\n",
    "    file_name=folder_path+'\\\\image_'+str(i) + '.png'\n",
    "    print(file_name)\n",
    "    image.save(file_name,'PNG')"
   ]
  }
 ],
 "metadata": {
  "kernelspec": {
   "display_name": "Python 3 (ipykernel)",
   "language": "python",
   "name": "python3"
  },
  "language_info": {
   "codemirror_mode": {
    "name": "ipython",
    "version": 3
   },
   "file_extension": ".py",
   "mimetype": "text/x-python",
   "name": "python",
   "nbconvert_exporter": "python",
   "pygments_lexer": "ipython3",
   "version": "3.11.5"
  }
 },
 "nbformat": 4,
 "nbformat_minor": 5
}
